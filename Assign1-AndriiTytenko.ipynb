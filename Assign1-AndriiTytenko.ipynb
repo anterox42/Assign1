{
 "cells": [
  {
   "cell_type": "code",
   "execution_count": 1,
   "id": "afb794a5",
   "metadata": {},
   "outputs": [],
   "source": [
    "import sqlite3\n",
    "import pandas as pd"
   ]
  },
  {
   "cell_type": "code",
   "execution_count": 2,
   "id": "f546fe16",
   "metadata": {},
   "outputs": [],
   "source": [
    "# connecting to the local database\n",
    "connect = sqlite3.connect('dinofunworld.db')\n",
    "\n",
    "# loading tables to pandas data frames\n",
    "checkins_df = pd.read_sql_query(\"SELECT * FROM checkin\", connect)\n",
    "attractions_df = pd.read_sql_query(\"SELECT * FROM attraction\", connect)\n",
    "sequences_df = pd.read_sql_query(\"SELECT * FROM sequences\", connect)\n",
    "\n",
    "# function to convert duration string to total seconds that also deals with the database date format\n",
    "def duration_to_seconds(duration_str):\n",
    "    if duration_str is None:\n",
    "        return None\n",
    "    try:\n",
    "        duration_part = duration_str.split('@')[0]\n",
    "        hours, minutes, seconds = map(int, duration_part.split(':'))\n",
    "        return hours * 3600 + minutes * 60 + seconds\n",
    "    except ValueError:\n",
    "        return None"
   ]
  },
  {
   "cell_type": "code",
   "execution_count": 3,
   "id": "d7a52894",
   "metadata": {},
   "outputs": [
    {
     "name": "stdout",
     "output_type": "stream",
     "text": [
      "Answer 1: The most popular attraction is Atmosfear with 27747 checkins.\n"
     ]
    }
   ],
   "source": [
    "# Answer 1: most popular attraction\n",
    "popular_attractions = checkins_df['attraction'].value_counts()\n",
    "most_popular_attraction_id = popular_attractions.idxmax()\n",
    "most_popular_attraction_checkins = popular_attractions.max()\n",
    "most_popular_attraction = attractions_df[attractions_df['AttractionID'] == most_popular_attraction_id]\n",
    "most_popular_attraction_name = most_popular_attraction['Name'].iloc[0]\n",
    "\n",
    "print(f\"Answer 1: The most popular attraction is {most_popular_attraction_name} with {most_popular_attraction_checkins} checkins.\")"
   ]
  },
  {
   "cell_type": "code",
   "execution_count": 8,
   "id": "124ecfb2",
   "metadata": {},
   "outputs": [
    {
     "name": "stdout",
     "output_type": "stream",
     "text": [
      "Answer 2: The ride with the longest visit time is Atmosfear reaching 47751 seconds.\n"
     ]
    }
   ],
   "source": [
    "rides_attractions_df = attractions_df[attractions_df['Category'].str.contains('rides', case=False)]\n",
    "merged_df = pd.merge(checkins_df, rides_attractions_df, left_on='attraction', right_on='AttractionID')\n",
    "merged_df['duration_seconds'] = merged_df['duration'].apply(duration_to_seconds)\n",
    "merged_df.dropna(subset=['duration_seconds'], inplace=True)\n",
    "longest_ride_duration_rounded = round(merged_df['duration_seconds'].max())\n",
    "longest_rides_duration_attraction = rides_attractions_df[rides_attractions_df['AttractionID'] == merged_df.loc[merged_df['duration_seconds'] == longest_ride_duration_rounded, 'attraction'].iloc[0]]\n",
    "longest_rides_duration_attraction_name = longest_rides_duration_attraction['Name'].iloc[0]\n",
    "\n",
    "print(f\"Answer 2: The ride with the longest visit time is {longest_rides_duration_attraction_name} reaching {longest_ride_duration_rounded} seconds.\")"
   ]
  },
  {
   "cell_type": "code",
   "execution_count": 5,
   "id": "b0da3b46",
   "metadata": {},
   "outputs": [
    {
     "name": "stdout",
     "output_type": "stream",
     "text": [
      "Answer 3: The fast food with the fewest visitors is Theresaur Food Stop having 1116 visitors.\n"
     ]
    }
   ],
   "source": [
    "# question 3: the least visited fast food\n",
    "\n",
    "fast_food_attractions = attractions_df[attractions_df['type'] == 'Fast Food']\n",
    "fast_food_visitors = checkins_df[checkins_df['attraction'].isin(fast_food_attractions['AttractionID'])]\n",
    "visitor_counts = fast_food_visitors['attraction'].value_counts()\n",
    "least_popular_fast_food_id = visitor_counts.idxmin()\n",
    "least_popular_fast_food_visitors = visitor_counts.min()\n",
    "least_popular_fast_food = attractions_df[attractions_df['AttractionID'] == least_popular_fast_food_id]\n",
    "least_popular_fast_food_name = least_popular_fast_food['Name'].iloc[0]\n",
    "\n",
    "print(f\"Answer 3: The fast food with the fewest visitors is {least_popular_fast_food_name} having {least_popular_fast_food_visitors} visitors.\")"
   ]
  },
  {
   "cell_type": "code",
   "execution_count": 9,
   "id": "e7a80d3a",
   "metadata": {
    "scrolled": false
   },
   "outputs": [
    {
     "name": "stdout",
     "output_type": "stream",
     "text": [
      "Answer 4: Rides in the skyline:\n",
      "TerrorSaur\n",
      "Atmosfear\n",
      "Ichthyoroberts Rapids\n",
      "Flight of the Swingodon\n"
     ]
    }
   ],
   "source": [
    "# question 4: skyline\n",
    "\n",
    "# function to check if the ride is dominant\n",
    "def is_dominant(ride, other_rides):\n",
    "    for other_ride in other_rides:\n",
    "        better_counts = [\n",
    "            ride['visits'] > other_ride['visits'],\n",
    "            ride['visit_time'] > other_ride['visit_time']\n",
    "        ]\n",
    "        if not any(better_counts):\n",
    "            return False\n",
    "    return True\n",
    "\n",
    "rides_attractions_df = attractions_df[attractions_df['Category'].str.contains('rides', case=False)]\n",
    "rides_visits = checkins_df[checkins_df['attraction'].isin(rides_attractions_df['AttractionID'])]\n",
    "rides_visits = rides_visits.copy()\n",
    "rides_visits.loc[:, 'duration_seconds'] = rides_visits.loc[:, 'duration'].apply(duration_to_seconds)\n",
    "visits_count = rides_visits['attraction'].value_counts()\n",
    "average_visit_time = rides_visits.groupby('attraction')['duration_seconds'].mean()\n",
    "rides_stats = pd.DataFrame({'visits': visits_count, 'visit_time': average_visit_time}).reset_index()\n",
    "rides_attractions = attractions_df[attractions_df['Category'].str.contains('rides', case=False)]\n",
    "\n",
    "skyline_rides = []\n",
    "for _, ride in rides_stats.iterrows():\n",
    "    other_rides = rides_stats.loc[rides_stats.index != ride.name]\n",
    "    if is_dominant(ride, other_rides.to_dict('records')):\n",
    "        skyline_rides.append(ride['attraction'])\n",
    "\n",
    "print(\"Answer 4: Rides in the skyline:\")\n",
    "for ride_id in skyline_rides:\n",
    "    ride_name = attractions_df.loc[attractions_df['AttractionID'] == ride_id, 'Name'].values[0]\n",
    "    print(f\"{ride_name}\")  \n"
   ]
  }
 ],
 "metadata": {
  "kernelspec": {
   "display_name": "Python 3 (ipykernel)",
   "language": "python",
   "name": "python3"
  },
  "language_info": {
   "codemirror_mode": {
    "name": "ipython",
    "version": 3
   },
   "file_extension": ".py",
   "mimetype": "text/x-python",
   "name": "python",
   "nbconvert_exporter": "python",
   "pygments_lexer": "ipython3",
   "version": "3.11.3"
  }
 },
 "nbformat": 4,
 "nbformat_minor": 5
}
